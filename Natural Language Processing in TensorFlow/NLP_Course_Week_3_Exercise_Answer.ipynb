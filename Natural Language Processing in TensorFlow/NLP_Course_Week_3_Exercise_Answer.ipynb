{
  "nbformat": 4,
  "nbformat_minor": 0,
  "metadata": {
    "accelerator": "GPU",
    "colab": {
      "name": "NLP Course - Week 3 Exercise Answer.ipynb",
      "provenance": [],
      "toc_visible": true
    },
    "kernelspec": {
      "display_name": "Python 3",
      "name": "python3"
    }
  },
  "cells": [
    {
      "cell_type": "code",
      "metadata": {
        "id": "zX4Kg8DUTKWO",
        "colab_type": "code",
        "colab": {}
      },
      "source": [
        "#@title Licensed under the Apache License, Version 2.0 (the \"License\");\n",
        "# you may not use this file except in compliance with the License.\n",
        "# You may obtain a copy of the License at\n",
        "#\n",
        "# https://www.apache.org/licenses/LICENSE-2.0\n",
        "#\n",
        "# Unless required by applicable law or agreed to in writing, software\n",
        "# distributed under the License is distributed on an \"AS IS\" BASIS,\n",
        "# WITHOUT WARRANTIES OR CONDITIONS OF ANY KIND, either express or implied.\n",
        "# See the License for the specific language governing permissions and\n",
        "# limitations under the License."
      ],
      "execution_count": 0,
      "outputs": []
    },
    {
      "cell_type": "code",
      "metadata": {
        "colab_type": "code",
        "id": "hmA6EzkQJ5jt",
        "colab": {}
      },
      "source": [
        "import json\n",
        "import tensorflow as tf\n",
        "import csv\n",
        "import random\n",
        "import numpy as np\n",
        "\n",
        "from tensorflow.keras.preprocessing.text import Tokenizer\n",
        "from tensorflow.keras.preprocessing.sequence import pad_sequences\n",
        "from tensorflow.keras.utils import to_categorical\n",
        "from tensorflow.keras import regularizers\n",
        "\n",
        "\n",
        "embedding_dim = 100\n",
        "max_length = 16\n",
        "trunc_type='post'\n",
        "padding_type='post'\n",
        "oov_tok = \"<OOV>\"\n",
        "training_size=160000\n",
        "test_portion=.1\n",
        "\n",
        "corpus = []\n"
      ],
      "execution_count": 0,
      "outputs": []
    },
    {
      "cell_type": "code",
      "metadata": {
        "colab_type": "code",
        "id": "bM0l_dORKqE0",
        "outputId": "a3030352-58ac-4a31-d3dd-f933ddaa1754",
        "colab": {
          "base_uri": "https://localhost:8080/",
          "height": 204
        }
      },
      "source": [
        "# Note that I cleaned the Stanford dataset to remove LATIN1 encoding to make it easier for Python CSV reader\n",
        "# You can do that yourself with:\n",
        "# iconv -f LATIN1 -t UTF8 training.1600000.processed.noemoticon.csv -o training_cleaned.csv\n",
        "# I then hosted it on my site to make it easier to use in this notebook\n",
        "\n",
        "!wget --no-check-certificate \\\n",
        "    https://storage.googleapis.com/laurencemoroney-blog.appspot.com/training_cleaned.csv \\\n",
        "    -O /tmp/training_cleaned.csv\n",
        "\n",
        "num_sentences = 0\n",
        "\n",
        "with open(\"/tmp/training_cleaned.csv\") as csvfile:\n",
        "    reader = csv.reader(csvfile, delimiter=',')\n",
        "    for row in reader:\n",
        "        list_item=[]\n",
        "        list_item.append(row[5])\n",
        "        this_label=row[0]\n",
        "        if this_label=='0':\n",
        "            list_item.append(0)\n",
        "        else:\n",
        "            list_item.append(1)\n",
        "        num_sentences = num_sentences + 1\n",
        "        corpus.append(list_item)\n"
      ],
      "execution_count": 2,
      "outputs": [
        {
          "output_type": "stream",
          "text": [
            "--2020-06-12 16:11:04--  https://storage.googleapis.com/laurencemoroney-blog.appspot.com/training_cleaned.csv\n",
            "Resolving storage.googleapis.com (storage.googleapis.com)... 172.217.214.128, 2607:f8b0:4001:c0d::80\n",
            "Connecting to storage.googleapis.com (storage.googleapis.com)|172.217.214.128|:443... connected.\n",
            "HTTP request sent, awaiting response... 200 OK\n",
            "Length: 238942690 (228M) [application/octet-stream]\n",
            "Saving to: ‘/tmp/training_cleaned.csv’\n",
            "\n",
            "/tmp/training_clean 100%[===================>] 227.87M   135MB/s    in 1.7s    \n",
            "\n",
            "2020-06-12 16:11:06 (135 MB/s) - ‘/tmp/training_cleaned.csv’ saved [238942690/238942690]\n",
            "\n"
          ],
          "name": "stdout"
        }
      ]
    },
    {
      "cell_type": "code",
      "metadata": {
        "colab_type": "code",
        "id": "3kxblBUjEUX-",
        "outputId": "0f882e78-51c0-4f11-a855-4f3d3f315a41",
        "colab": {
          "base_uri": "https://localhost:8080/",
          "height": 68
        }
      },
      "source": [
        "print(num_sentences)\n",
        "print(len(corpus))\n",
        "print(corpus[1])\n",
        "\n",
        "# Expected Output:\n",
        "# 1600000\n",
        "# 1600000\n",
        "# [\"is upset that he can't update his Facebook by texting it... and might cry as a result  School today also. Blah!\", 0]"
      ],
      "execution_count": 3,
      "outputs": [
        {
          "output_type": "stream",
          "text": [
            "1600000\n",
            "1600000\n",
            "[\"is upset that he can't update his Facebook by texting it... and might cry as a result  School today also. Blah!\", 0]\n"
          ],
          "name": "stdout"
        }
      ]
    },
    {
      "cell_type": "code",
      "metadata": {
        "colab_type": "code",
        "id": "ohOGz24lsNAD",
        "colab": {}
      },
      "source": [
        "sentences=[]\n",
        "labels=[]\n",
        "random.shuffle(corpus)\n",
        "for x in range(training_size):\n",
        "    sentences.append(corpus[x][0])\n",
        "    labels.append(corpus[x][1])\n",
        "\n",
        "\n",
        "tokenizer = Tokenizer()\n",
        "tokenizer.fit_on_texts(sentences)\n",
        "\n",
        "word_index = tokenizer.word_index\n",
        "vocab_size=len(word_index)\n",
        "\n",
        "sequences = tokenizer.texts_to_sequences(sentences)\n",
        "padded = pad_sequences(sequences, maxlen=max_length, padding=padding_type, truncating=trunc_type)\n",
        "\n",
        "split = int(test_portion * training_size)\n",
        "\n",
        "test_sequences = padded[0:split]\n",
        "training_sequences = padded[split:training_size]\n",
        "test_labels = labels[0:split]\n",
        "training_labels = labels[split:training_size]"
      ],
      "execution_count": 0,
      "outputs": []
    },
    {
      "cell_type": "code",
      "metadata": {
        "colab_type": "code",
        "id": "gIrtRem1En3N",
        "outputId": "ea544dee-a52f-406d-9cc8-0f743b311d5b",
        "colab": {
          "base_uri": "https://localhost:8080/",
          "height": 51
        }
      },
      "source": [
        "print(vocab_size)\n",
        "print(word_index['i'])\n",
        "# Expected Output\n",
        "# 138858\n",
        "# 1"
      ],
      "execution_count": 5,
      "outputs": [
        {
          "output_type": "stream",
          "text": [
            "138536\n",
            "1\n"
          ],
          "name": "stdout"
        }
      ]
    },
    {
      "cell_type": "code",
      "metadata": {
        "colab_type": "code",
        "id": "C1zdgJkusRh0",
        "outputId": "0dc064df-e1ca-4d88-ba26-5f01ca45ded9",
        "colab": {
          "base_uri": "https://localhost:8080/",
          "height": 204
        }
      },
      "source": [
        "# Note this is the 100 dimension version of GloVe from Stanford\n",
        "# I unzipped and hosted it on my site to make this notebook easier\n",
        "!wget --no-check-certificate \\\n",
        "    https://storage.googleapis.com/laurencemoroney-blog.appspot.com/glove.6B.100d.txt \\\n",
        "    -O /tmp/glove.6B.100d.txt\n",
        "embeddings_index = {};\n",
        "with open('/tmp/glove.6B.100d.txt') as f:\n",
        "    for line in f:\n",
        "        values = line.split();\n",
        "        word = values[0];\n",
        "        coefs = np.asarray(values[1:], dtype='float32');\n",
        "        embeddings_index[word] = coefs;\n",
        "\n",
        "embeddings_matrix = np.zeros((vocab_size+1, embedding_dim));\n",
        "for word, i in word_index.items():\n",
        "    embedding_vector = embeddings_index.get(word);\n",
        "    if embedding_vector is not None:\n",
        "        embeddings_matrix[i] = embedding_vector;"
      ],
      "execution_count": 6,
      "outputs": [
        {
          "output_type": "stream",
          "text": [
            "--2020-06-12 16:11:43--  https://storage.googleapis.com/laurencemoroney-blog.appspot.com/glove.6B.100d.txt\n",
            "Resolving storage.googleapis.com (storage.googleapis.com)... 173.194.74.128, 2607:f8b0:4001:c05::80\n",
            "Connecting to storage.googleapis.com (storage.googleapis.com)|173.194.74.128|:443... connected.\n",
            "HTTP request sent, awaiting response... 200 OK\n",
            "Length: 347116733 (331M) [text/plain]\n",
            "Saving to: ‘/tmp/glove.6B.100d.txt’\n",
            "\n",
            "/tmp/glove.6B.100d. 100%[===================>] 331.04M   150MB/s    in 2.2s    \n",
            "\n",
            "2020-06-12 16:11:46 (150 MB/s) - ‘/tmp/glove.6B.100d.txt’ saved [347116733/347116733]\n",
            "\n"
          ],
          "name": "stdout"
        }
      ]
    },
    {
      "cell_type": "code",
      "metadata": {
        "colab_type": "code",
        "id": "71NLk_lpFLNt",
        "outputId": "34e0448d-c3dc-4d5d-d939-7e761d4a0c7d",
        "colab": {
          "base_uri": "https://localhost:8080/",
          "height": 34
        }
      },
      "source": [
        "print(len(embeddings_matrix))\n",
        "# Expected Output\n",
        "# 138859"
      ],
      "execution_count": 7,
      "outputs": [
        {
          "output_type": "stream",
          "text": [
            "138537\n"
          ],
          "name": "stdout"
        }
      ]
    },
    {
      "cell_type": "code",
      "metadata": {
        "colab_type": "code",
        "id": "iKKvbuEBOGFz",
        "colab": {
          "base_uri": "https://localhost:8080/",
          "height": 1000
        },
        "outputId": "ce1f9942-43f7-425a-b537-5f22317a2371"
      },
      "source": [
        "model = tf.keras.Sequential([\n",
        "    tf.keras.layers.Embedding(vocab_size+1, embedding_dim, input_length=max_length, weights=[embeddings_matrix], trainable=False),\n",
        "    tf.keras.layers.Dropout(0.2),\n",
        "    tf.keras.layers.Conv1D(64, 5, activation='relu'),\n",
        "    tf.keras.layers.MaxPooling1D(pool_size=4),\n",
        "    tf.keras.layers.LSTM(64),\n",
        "    tf.keras.layers.Dense(1, activation='sigmoid')\n",
        "])\n",
        "model.compile(loss='binary_crossentropy',optimizer='adam',metrics=['accuracy'])\n",
        "model.summary()\n",
        "\n",
        "training_sequences = np.array(training_sequences)\n",
        "training_labels = np.array(training_labels)\n",
        "test_sequences = np.array(test_sequences)\n",
        "test_labels = np.array(test_labels)\n",
        "\n",
        "num_epochs = 50\n",
        "history = model.fit(training_sequences, training_labels, epochs=num_epochs, validation_data=(test_sequences, test_labels), verbose=2)\n",
        "\n",
        "print(\"Training Complete\")\n"
      ],
      "execution_count": 11,
      "outputs": [
        {
          "output_type": "stream",
          "text": [
            "Model: \"sequential_3\"\n",
            "_________________________________________________________________\n",
            "Layer (type)                 Output Shape              Param #   \n",
            "=================================================================\n",
            "embedding_3 (Embedding)      (None, 16, 100)           13853700  \n",
            "_________________________________________________________________\n",
            "dropout_3 (Dropout)          (None, 16, 100)           0         \n",
            "_________________________________________________________________\n",
            "conv1d_3 (Conv1D)            (None, 12, 64)            32064     \n",
            "_________________________________________________________________\n",
            "max_pooling1d_3 (MaxPooling1 (None, 3, 64)             0         \n",
            "_________________________________________________________________\n",
            "lstm_3 (LSTM)                (None, 64)                33024     \n",
            "_________________________________________________________________\n",
            "dense_3 (Dense)              (None, 1)                 65        \n",
            "=================================================================\n",
            "Total params: 13,918,853\n",
            "Trainable params: 65,153\n",
            "Non-trainable params: 13,853,700\n",
            "_________________________________________________________________\n",
            "Epoch 1/50\n",
            "4500/4500 - 21s - loss: 0.5662 - accuracy: 0.7001 - val_loss: 0.5321 - val_accuracy: 0.7251\n",
            "Epoch 2/50\n",
            "4500/4500 - 21s - loss: 0.5258 - accuracy: 0.7322 - val_loss: 0.5160 - val_accuracy: 0.7404\n",
            "Epoch 3/50\n",
            "4500/4500 - 21s - loss: 0.5097 - accuracy: 0.7432 - val_loss: 0.5115 - val_accuracy: 0.7428\n",
            "Epoch 4/50\n",
            "4500/4500 - 21s - loss: 0.4985 - accuracy: 0.7516 - val_loss: 0.5051 - val_accuracy: 0.7466\n",
            "Epoch 5/50\n",
            "4500/4500 - 21s - loss: 0.4908 - accuracy: 0.7569 - val_loss: 0.5039 - val_accuracy: 0.7482\n",
            "Epoch 6/50\n",
            "4500/4500 - 22s - loss: 0.4825 - accuracy: 0.7614 - val_loss: 0.5066 - val_accuracy: 0.7494\n",
            "Epoch 7/50\n",
            "4500/4500 - 21s - loss: 0.4763 - accuracy: 0.7666 - val_loss: 0.5050 - val_accuracy: 0.7524\n",
            "Epoch 8/50\n",
            "4500/4500 - 21s - loss: 0.4715 - accuracy: 0.7699 - val_loss: 0.5013 - val_accuracy: 0.7494\n",
            "Epoch 9/50\n",
            "4500/4500 - 21s - loss: 0.4671 - accuracy: 0.7724 - val_loss: 0.5004 - val_accuracy: 0.7535\n",
            "Epoch 10/50\n",
            "4500/4500 - 21s - loss: 0.4637 - accuracy: 0.7747 - val_loss: 0.5002 - val_accuracy: 0.7492\n",
            "Epoch 11/50\n",
            "4500/4500 - 21s - loss: 0.4601 - accuracy: 0.7772 - val_loss: 0.5049 - val_accuracy: 0.7509\n",
            "Epoch 12/50\n",
            "4500/4500 - 21s - loss: 0.4574 - accuracy: 0.7783 - val_loss: 0.5070 - val_accuracy: 0.7501\n",
            "Epoch 13/50\n",
            "4500/4500 - 21s - loss: 0.4537 - accuracy: 0.7801 - val_loss: 0.5058 - val_accuracy: 0.7451\n",
            "Epoch 14/50\n",
            "4500/4500 - 21s - loss: 0.4512 - accuracy: 0.7819 - val_loss: 0.5094 - val_accuracy: 0.7494\n",
            "Epoch 15/50\n",
            "4500/4500 - 21s - loss: 0.4509 - accuracy: 0.7824 - val_loss: 0.5085 - val_accuracy: 0.7503\n",
            "Epoch 16/50\n",
            "4500/4500 - 21s - loss: 0.4476 - accuracy: 0.7843 - val_loss: 0.5095 - val_accuracy: 0.7479\n",
            "Epoch 17/50\n",
            "4500/4500 - 21s - loss: 0.4455 - accuracy: 0.7863 - val_loss: 0.5171 - val_accuracy: 0.7488\n",
            "Epoch 18/50\n",
            "4500/4500 - 21s - loss: 0.4452 - accuracy: 0.7855 - val_loss: 0.5046 - val_accuracy: 0.7524\n",
            "Epoch 19/50\n",
            "4500/4500 - 21s - loss: 0.4421 - accuracy: 0.7873 - val_loss: 0.5117 - val_accuracy: 0.7490\n",
            "Epoch 20/50\n",
            "4500/4500 - 21s - loss: 0.4407 - accuracy: 0.7884 - val_loss: 0.5128 - val_accuracy: 0.7484\n",
            "Epoch 21/50\n",
            "4500/4500 - 21s - loss: 0.4402 - accuracy: 0.7884 - val_loss: 0.5160 - val_accuracy: 0.7483\n",
            "Epoch 22/50\n",
            "4500/4500 - 20s - loss: 0.4396 - accuracy: 0.7902 - val_loss: 0.5211 - val_accuracy: 0.7467\n",
            "Epoch 23/50\n",
            "4500/4500 - 20s - loss: 0.4381 - accuracy: 0.7902 - val_loss: 0.5172 - val_accuracy: 0.7492\n",
            "Epoch 24/50\n",
            "4500/4500 - 20s - loss: 0.4375 - accuracy: 0.7903 - val_loss: 0.5184 - val_accuracy: 0.7447\n",
            "Epoch 25/50\n",
            "4500/4500 - 21s - loss: 0.4368 - accuracy: 0.7895 - val_loss: 0.5154 - val_accuracy: 0.7467\n",
            "Epoch 26/50\n",
            "4500/4500 - 21s - loss: 0.4367 - accuracy: 0.7910 - val_loss: 0.5166 - val_accuracy: 0.7451\n",
            "Epoch 27/50\n",
            "4500/4500 - 20s - loss: 0.4350 - accuracy: 0.7915 - val_loss: 0.5150 - val_accuracy: 0.7507\n",
            "Epoch 28/50\n",
            "4500/4500 - 21s - loss: 0.4341 - accuracy: 0.7930 - val_loss: 0.5130 - val_accuracy: 0.7464\n",
            "Epoch 29/50\n",
            "4500/4500 - 21s - loss: 0.4343 - accuracy: 0.7922 - val_loss: 0.5206 - val_accuracy: 0.7459\n",
            "Epoch 30/50\n",
            "4500/4500 - 20s - loss: 0.4325 - accuracy: 0.7930 - val_loss: 0.5204 - val_accuracy: 0.7401\n",
            "Epoch 31/50\n",
            "4500/4500 - 20s - loss: 0.4312 - accuracy: 0.7946 - val_loss: 0.5289 - val_accuracy: 0.7436\n",
            "Epoch 32/50\n",
            "4500/4500 - 21s - loss: 0.4317 - accuracy: 0.7935 - val_loss: 0.5200 - val_accuracy: 0.7454\n",
            "Epoch 33/50\n",
            "4500/4500 - 20s - loss: 0.4318 - accuracy: 0.7935 - val_loss: 0.5198 - val_accuracy: 0.7453\n",
            "Epoch 34/50\n",
            "4500/4500 - 20s - loss: 0.4311 - accuracy: 0.7951 - val_loss: 0.5224 - val_accuracy: 0.7494\n",
            "Epoch 35/50\n",
            "4500/4500 - 21s - loss: 0.4310 - accuracy: 0.7947 - val_loss: 0.5236 - val_accuracy: 0.7476\n",
            "Epoch 36/50\n",
            "4500/4500 - 21s - loss: 0.4301 - accuracy: 0.7948 - val_loss: 0.5177 - val_accuracy: 0.7476\n",
            "Epoch 37/50\n",
            "4500/4500 - 20s - loss: 0.4308 - accuracy: 0.7933 - val_loss: 0.5230 - val_accuracy: 0.7447\n",
            "Epoch 38/50\n",
            "4500/4500 - 20s - loss: 0.4274 - accuracy: 0.7966 - val_loss: 0.5225 - val_accuracy: 0.7453\n",
            "Epoch 39/50\n",
            "4500/4500 - 20s - loss: 0.4276 - accuracy: 0.7967 - val_loss: 0.5294 - val_accuracy: 0.7455\n",
            "Epoch 40/50\n",
            "4500/4500 - 20s - loss: 0.4285 - accuracy: 0.7953 - val_loss: 0.5228 - val_accuracy: 0.7464\n",
            "Epoch 41/50\n",
            "4500/4500 - 20s - loss: 0.4278 - accuracy: 0.7952 - val_loss: 0.5312 - val_accuracy: 0.7428\n",
            "Epoch 42/50\n",
            "4500/4500 - 20s - loss: 0.4261 - accuracy: 0.7971 - val_loss: 0.5266 - val_accuracy: 0.7437\n",
            "Epoch 43/50\n",
            "4500/4500 - 20s - loss: 0.4260 - accuracy: 0.7960 - val_loss: 0.5220 - val_accuracy: 0.7438\n",
            "Epoch 44/50\n",
            "4500/4500 - 20s - loss: 0.4261 - accuracy: 0.7972 - val_loss: 0.5275 - val_accuracy: 0.7446\n",
            "Epoch 45/50\n",
            "4500/4500 - 20s - loss: 0.4261 - accuracy: 0.7969 - val_loss: 0.5228 - val_accuracy: 0.7426\n",
            "Epoch 46/50\n",
            "4500/4500 - 20s - loss: 0.4249 - accuracy: 0.7986 - val_loss: 0.5253 - val_accuracy: 0.7435\n",
            "Epoch 47/50\n",
            "4500/4500 - 21s - loss: 0.4257 - accuracy: 0.7973 - val_loss: 0.5277 - val_accuracy: 0.7454\n",
            "Epoch 48/50\n",
            "4500/4500 - 21s - loss: 0.4247 - accuracy: 0.7980 - val_loss: 0.5253 - val_accuracy: 0.7434\n",
            "Epoch 49/50\n",
            "4500/4500 - 21s - loss: 0.4260 - accuracy: 0.7977 - val_loss: 0.5295 - val_accuracy: 0.7437\n",
            "Epoch 50/50\n",
            "4500/4500 - 21s - loss: 0.4267 - accuracy: 0.7967 - val_loss: 0.5299 - val_accuracy: 0.7436\n",
            "Training Complete\n"
          ],
          "name": "stdout"
        }
      ]
    },
    {
      "cell_type": "code",
      "metadata": {
        "colab_type": "code",
        "id": "qxju4ItJKO8F",
        "colab": {
          "base_uri": "https://localhost:8080/",
          "height": 607
        },
        "outputId": "69ecbe6c-ee14-49fe-fb02-032aed128401"
      },
      "source": [
        "import matplotlib.image  as mpimg\n",
        "import matplotlib.pyplot as plt\n",
        "\n",
        "#-----------------------------------------------------------\n",
        "# Retrieve a list of list results on training and test data\n",
        "# sets for each training epoch\n",
        "#-----------------------------------------------------------\n",
        "acc=history.history['accuracy']\n",
        "val_acc=history.history['val_accuracy']\n",
        "loss=history.history['loss']\n",
        "val_loss=history.history['val_loss']\n",
        "\n",
        "epochs=range(len(acc)) # Get number of epochs\n",
        "\n",
        "#------------------------------------------------\n",
        "# Plot training and validation accuracy per epoch\n",
        "#------------------------------------------------\n",
        "plt.plot(epochs, acc, 'r')\n",
        "plt.plot(epochs, val_acc, 'b')\n",
        "plt.title('Training and validation accuracy')\n",
        "plt.xlabel(\"Epochs\")\n",
        "plt.ylabel(\"Accuracy\")\n",
        "plt.legend([\"Accuracy\", \"Validation Accuracy\"])\n",
        "\n",
        "plt.figure()\n",
        "\n",
        "#------------------------------------------------\n",
        "# Plot training and validation loss per epoch\n",
        "#------------------------------------------------\n",
        "plt.plot(epochs, loss, 'r')\n",
        "plt.plot(epochs, val_loss, 'b')\n",
        "plt.title('Training and validation loss')\n",
        "plt.xlabel(\"Epochs\")\n",
        "plt.ylabel(\"Loss\")\n",
        "plt.legend([\"Loss\", \"Validation Loss\"])\n",
        "\n",
        "plt.figure()\n",
        "\n",
        "\n",
        "# Expected Output\n",
        "# A chart where the validation loss does not increase sharply!"
      ],
      "execution_count": 12,
      "outputs": [
        {
          "output_type": "execute_result",
          "data": {
            "text/plain": [
              "<Figure size 432x288 with 0 Axes>"
            ]
          },
          "metadata": {
            "tags": []
          },
          "execution_count": 12
        },
        {
          "output_type": "display_data",
          "data": {
            "image/png": "[encoded data removed]",
            "text/plain": [
              "<Figure size 432x288 with 1 Axes>"
            ]
          },
          "metadata": {
            "tags": [],
            "needs_background": "light"
          }
        },
        {
          "output_type": "display_data",
          "data": {
            "image/png": "[encoded data removed]",
            "text/plain": [
              "<Figure size 432x288 with 1 Axes>"
            ]
          },
          "metadata": {
            "tags": [],
            "needs_background": "light"
          }
        },
        {
          "output_type": "display_data",
          "data": {
            "text/plain": [
              "<Figure size 432x288 with 0 Axes>"
            ]
          },
          "metadata": {
            "tags": []
          }
        }
      ]
    }
  ]
}